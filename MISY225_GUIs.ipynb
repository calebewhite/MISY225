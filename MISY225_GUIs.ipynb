{
 "cells": [
  {
   "cell_type": "code",
   "execution_count": 1,
   "id": "f36a494d",
   "metadata": {},
   "outputs": [
    {
     "data": {
      "application/vnd.jupyter.widget-view+json": {
       "model_id": "f3b4bcece4f24fdbae5d8b344044e8c3",
       "version_major": 2,
       "version_minor": 0
      },
      "text/plain": [
       "Label(value='Select the account type: ')"
      ]
     },
     "metadata": {},
     "output_type": "display_data"
    },
    {
     "data": {
      "application/vnd.jupyter.widget-view+json": {
       "model_id": "22a2be94a6c54d16af9006243e8aeb27",
       "version_major": 2,
       "version_minor": 0
      },
      "text/plain": [
       "RadioButtons(options=('Checking', 'Savings'), value='Checking')"
      ]
     },
     "metadata": {},
     "output_type": "display_data"
    },
    {
     "data": {
      "application/vnd.jupyter.widget-view+json": {
       "model_id": "b0a9bc2f04d14fb097abd78d8f7f212c",
       "version_major": 2,
       "version_minor": 0
      },
      "text/plain": [
       "Label(value='Enter the account balance: ')"
      ]
     },
     "metadata": {},
     "output_type": "display_data"
    },
    {
     "data": {
      "application/vnd.jupyter.widget-view+json": {
       "model_id": "dca424c3de4a4971afd6f4176fd99fbd",
       "version_major": 2,
       "version_minor": 0
      },
      "text/plain": [
       "Text(value='')"
      ]
     },
     "metadata": {},
     "output_type": "display_data"
    },
    {
     "data": {
      "application/vnd.jupyter.widget-view+json": {
       "model_id": "2c39cc5b39264e62815f13e3c52d2344",
       "version_major": 2,
       "version_minor": 0
      },
      "text/plain": [
       "Button(description='Compute Interest', style=ButtonStyle())"
      ]
     },
     "metadata": {},
     "output_type": "display_data"
    },
    {
     "data": {
      "application/vnd.jupyter.widget-view+json": {
       "model_id": "642e6dc7a99a4c7cb67cf35cb9c41812",
       "version_major": 2,
       "version_minor": 0
      },
      "text/plain": [
       "Label(value='')"
      ]
     },
     "metadata": {},
     "output_type": "display_data"
    }
   ],
   "source": [
    "import ipywidgets as wd\n",
    "from IPython.display import display\n",
    "\n",
    "mylbl1 = wd.Label( 'Select the account type: ' )\n",
    "display(mylbl1)\n",
    "\n",
    "acct = wd.RadioButtons(options = [ 'Checking', 'Savings' ] )\n",
    "display(acct)\n",
    "\n",
    "mylbl2 = wd.Label( 'Enter the account balance: ' )\n",
    "display(mylbl2)\n",
    "\n",
    "bal = wd.Text()\n",
    "display(bal)\n",
    "\n",
    "myBtn = wd.Button( description = 'Compute Interest' )\n",
    "display(myBtn)\n",
    "\n",
    "mylbl3 = wd.Label()\n",
    "display(mylbl3)\n",
    "\n",
    "def myint(a):\n",
    "    if acct.value == 'Checking':\n",
    "        if float(bal.value)<100:\n",
    "            inte = 0\n",
    "        elif float(bal.value)>=100:\n",
    "            inte = .02\n",
    "    elif acct.value == 'Savings':\n",
    "        if float(bal.value)<100:\n",
    "            inte = .03\n",
    "        elif float(bal.value)>=100:\n",
    "            inte = .04\n",
    "    interest = float(bal.value)*inte\n",
    "    mylbl3.value = 'Interest amount: $' + str(interest)\n",
    "    \n",
    "myBtn.on_click(myint)"
   ]
  },
  {
   "cell_type": "code",
   "execution_count": 2,
   "id": "a56acc74",
   "metadata": {},
   "outputs": [
    {
     "data": {
      "application/vnd.jupyter.widget-view+json": {
       "model_id": "e8413b5abdac48629ed61274f0f9cb27",
       "version_major": 2,
       "version_minor": 0
      },
      "text/plain": [
       "Label(value='Toppings:')"
      ]
     },
     "metadata": {},
     "output_type": "display_data"
    },
    {
     "data": {
      "application/vnd.jupyter.widget-view+json": {
       "model_id": "733ca16cc4a04c909626184cb12fd8a2",
       "version_major": 2,
       "version_minor": 0
      },
      "text/plain": [
       "Checkbox(value=False, description='Pepperoni: $2')"
      ]
     },
     "metadata": {},
     "output_type": "display_data"
    },
    {
     "data": {
      "application/vnd.jupyter.widget-view+json": {
       "model_id": "217c5b2b1df2497c9e7f4efb5dd4a5f4",
       "version_major": 2,
       "version_minor": 0
      },
      "text/plain": [
       "Checkbox(value=False, description='Sausage: $2')"
      ]
     },
     "metadata": {},
     "output_type": "display_data"
    },
    {
     "data": {
      "application/vnd.jupyter.widget-view+json": {
       "model_id": "55ccf1377ccf481eb06d58cdae5548d3",
       "version_major": 2,
       "version_minor": 0
      },
      "text/plain": [
       "Checkbox(value=False, description='Olives: $1')"
      ]
     },
     "metadata": {},
     "output_type": "display_data"
    },
    {
     "data": {
      "application/vnd.jupyter.widget-view+json": {
       "model_id": "196e3984decc4e57a2dcc66c017d0f07",
       "version_major": 2,
       "version_minor": 0
      },
      "text/plain": [
       "Checkbox(value=False, description='Mushrooms: $1')"
      ]
     },
     "metadata": {},
     "output_type": "display_data"
    },
    {
     "data": {
      "application/vnd.jupyter.widget-view+json": {
       "model_id": "33f593f45d184c4a98ab731ff42254e9",
       "version_major": 2,
       "version_minor": 0
      },
      "text/plain": [
       "Label(value='Pizza Size:')"
      ]
     },
     "metadata": {},
     "output_type": "display_data"
    },
    {
     "data": {
      "application/vnd.jupyter.widget-view+json": {
       "model_id": "bd24f534beea4f35a5ed118f61fb375d",
       "version_major": 2,
       "version_minor": 0
      },
      "text/plain": [
       "RadioButtons(description='Size', options=('Small: $6', 'Medium: $8', 'Large: $10'), value='Small: $6')"
      ]
     },
     "metadata": {},
     "output_type": "display_data"
    },
    {
     "data": {
      "application/vnd.jupyter.widget-view+json": {
       "model_id": "283bd7731e284e47be1906146a868af4",
       "version_major": 2,
       "version_minor": 0
      },
      "text/plain": [
       "Button(description='Total Price:', style=ButtonStyle())"
      ]
     },
     "metadata": {},
     "output_type": "display_data"
    }
   ],
   "source": [
    "import ipywidgets as wd\n",
    "from IPython.display import display\n",
    "\n",
    "mylbl1 = wd.Label( 'Toppings:' )\n",
    "display(mylbl1)\n",
    "\n",
    "mychkp = wd.Checkbox( description = 'Pepperoni: $2' )\n",
    "display(mychkp)\n",
    "\n",
    "mychks = wd.Checkbox( description = 'Sausage: $2' )\n",
    "display(mychks)\n",
    "\n",
    "mychko = wd.Checkbox( description = 'Olives: $1' )\n",
    "display(mychko)\n",
    "\n",
    "mychkm = wd.Checkbox( description = 'Mushrooms: $1' )\n",
    "display(mychkm)\n",
    "\n",
    "mylbl2 = wd.Label( 'Pizza Size:' )\n",
    "display(mylbl2)\n",
    "\n",
    "mysize = wd.RadioButtons(options = [ 'Small: $6', 'Medium: $8', 'Large: $10' ] , description = 'Size' )\n",
    "display(mysize)\n",
    "\n",
    "myBtn = wd.Button( description = 'Total Price:' )\n",
    "display(myBtn)\n",
    "\n",
    "def mypizza(a):\n",
    "    cost = 0\n",
    "    toppings = ''\n",
    "    if mychkp.value == True:\n",
    "        cost+=2\n",
    "        toppings+= ' Pepperoni '\n",
    "    if mychks.value == True:\n",
    "        cost+=2\n",
    "        toppings+= ' Sausage '\n",
    "    if mychko.value == True:\n",
    "        cost+=1\n",
    "        toppings+= ' Olives '\n",
    "    if mychkm.value == True:\n",
    "        cost+=1\n",
    "        toppings+= ' Mushrooms '\n",
    "    if mysize.value == 'Small: $6':\n",
    "        cost+=6\n",
    "    elif mysize.value == 'Medium: $8':\n",
    "        cost+=8\n",
    "    elif mysize.value == 'Large: $10':\n",
    "        cost+=10\n",
    "    display('Toppings: '+toppings)\n",
    "    display('Size: '+mysize.value)\n",
    "    display('Total Cost: $'+str(cost))\n",
    "    \n",
    "myBtn.on_click(mypizza)\n",
    "    "
   ]
  }
 ],
 "metadata": {
  "kernelspec": {
   "display_name": "Python 3 (ipykernel)",
   "language": "python",
   "name": "python3"
  },
  "language_info": {
   "codemirror_mode": {
    "name": "ipython",
    "version": 3
   },
   "file_extension": ".py",
   "mimetype": "text/x-python",
   "name": "python",
   "nbconvert_exporter": "python",
   "pygments_lexer": "ipython3",
   "version": "3.9.12"
  }
 },
 "nbformat": 4,
 "nbformat_minor": 5
}
