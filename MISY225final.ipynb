{
 "cells": [
  {
   "cell_type": "code",
   "execution_count": 70,
   "id": "f36a494d",
   "metadata": {},
   "outputs": [
    {
     "data": {
      "application/vnd.jupyter.widget-view+json": {
       "model_id": "b4f991c5e37642a380c641337afe6616",
       "version_major": 2,
       "version_minor": 0
      },
      "text/plain": [
       "Label(value='Select the account type: ')"
      ]
     },
     "metadata": {},
     "output_type": "display_data"
    },
    {
     "data": {
      "application/vnd.jupyter.widget-view+json": {
       "model_id": "d3fb482a2d0a45f088f29dbce98eea8c",
       "version_major": 2,
       "version_minor": 0
      },
      "text/plain": [
       "RadioButtons(options=('Checking', 'Savings'), value='Checking')"
      ]
     },
     "metadata": {},
     "output_type": "display_data"
    },
    {
     "data": {
      "application/vnd.jupyter.widget-view+json": {
       "model_id": "20f2daad6bc14cd8b070bd1c9d5b979b",
       "version_major": 2,
       "version_minor": 0
      },
      "text/plain": [
       "Label(value='Enter the account balance: ')"
      ]
     },
     "metadata": {},
     "output_type": "display_data"
    },
    {
     "data": {
      "application/vnd.jupyter.widget-view+json": {
       "model_id": "baa38458138b4e4da48827fd4d1ac6af",
       "version_major": 2,
       "version_minor": 0
      },
      "text/plain": [
       "Text(value='')"
      ]
     },
     "metadata": {},
     "output_type": "display_data"
    },
    {
     "data": {
      "application/vnd.jupyter.widget-view+json": {
       "model_id": "5b6d0e0416dc4035917d20466f1fdbb1",
       "version_major": 2,
       "version_minor": 0
      },
      "text/plain": [
       "Button(description='Compute Interest', style=ButtonStyle())"
      ]
     },
     "metadata": {},
     "output_type": "display_data"
    },
    {
     "data": {
      "application/vnd.jupyter.widget-view+json": {
       "model_id": "c95910ab936045329948e11863ce4087",
       "version_major": 2,
       "version_minor": 0
      },
      "text/plain": [
       "Label(value='')"
      ]
     },
     "metadata": {},
     "output_type": "display_data"
    }
   ],
   "source": [
    "import ipywidgets as wd\n",
    "from IPython.display import display\n",
    "\n",
    "mylbl1 = wd.Label( 'Select the account type: ' )\n",
    "display(mylbl1)\n",
    "\n",
    "acct = wd.RadioButtons(options = [ 'Checking', 'Savings' ] )\n",
    "display(acct)\n",
    "\n",
    "mylbl2 = wd.Label( 'Enter the account balance: ' )\n",
    "display(mylbl2)\n",
    "\n",
    "bal = wd.Text()\n",
    "display(bal)\n",
    "\n",
    "myBtn = wd.Button( description = 'Compute Interest' )\n",
    "display(myBtn)\n",
    "\n",
    "mylbl3 = wd.Label()\n",
    "display(mylbl3)\n",
    "\n",
    "def myint(a):\n",
    "    if acct.value == 'Checking':\n",
    "        if float(bal.value)<100:\n",
    "            inte = 0\n",
    "        elif float(bal.value)>=100:\n",
    "            inte = .02\n",
    "    elif acct.value == 'Savings':\n",
    "        if float(bal.value)<100:\n",
    "            inte = .03\n",
    "        elif float(bal.value)>=100:\n",
    "            inte = .04\n",
    "    interest = float(bal.value)*inte\n",
    "    mylbl3.value = 'Interest amount: $' + str(interest)\n",
    "    \n",
    "myBtn.on_click(myint)"
   ]
  },
  {
   "cell_type": "code",
   "execution_count": 2,
   "id": "78a27d2e",
   "metadata": {},
   "outputs": [
    {
     "data": {
      "text/plain": [
       "[10, 9, 8, 7, 6, 5, 4, 3, 2, 1]"
      ]
     },
     "execution_count": 2,
     "metadata": {},
     "output_type": "execute_result"
    }
   ],
   "source": [
    "list(reversed(range(1,11)))"
   ]
  },
  {
   "cell_type": "code",
   "execution_count": 3,
   "id": "a56acc74",
   "metadata": {},
   "outputs": [
    {
     "data": {
      "application/vnd.jupyter.widget-view+json": {
       "model_id": "1235bb00638e4adeb1d86cddd32b2f05",
       "version_major": 2,
       "version_minor": 0
      },
      "text/plain": [
       "Label(value='Toppings:')"
      ]
     },
     "metadata": {},
     "output_type": "display_data"
    },
    {
     "data": {
      "application/vnd.jupyter.widget-view+json": {
       "model_id": "8e1b691bc9c54e25a6411cc504f7b07d",
       "version_major": 2,
       "version_minor": 0
      },
      "text/plain": [
       "Checkbox(value=False, description='Pepperoni: $2')"
      ]
     },
     "metadata": {},
     "output_type": "display_data"
    },
    {
     "data": {
      "application/vnd.jupyter.widget-view+json": {
       "model_id": "d1d128d208884d299293a60381e034ac",
       "version_major": 2,
       "version_minor": 0
      },
      "text/plain": [
       "Checkbox(value=False, description='Sausage: $2')"
      ]
     },
     "metadata": {},
     "output_type": "display_data"
    },
    {
     "data": {
      "application/vnd.jupyter.widget-view+json": {
       "model_id": "7db6a82bc08c49e99e49d79404be564b",
       "version_major": 2,
       "version_minor": 0
      },
      "text/plain": [
       "Checkbox(value=False, description='Olive: $1')"
      ]
     },
     "metadata": {},
     "output_type": "display_data"
    },
    {
     "data": {
      "application/vnd.jupyter.widget-view+json": {
       "model_id": "7e37ab7a44c440a1a8fbf3d9f3a4696c",
       "version_major": 2,
       "version_minor": 0
      },
      "text/plain": [
       "Checkbox(value=False, description='Mushrooms: $1')"
      ]
     },
     "metadata": {},
     "output_type": "display_data"
    },
    {
     "data": {
      "application/vnd.jupyter.widget-view+json": {
       "model_id": "f5836afc758d4bd59b3f073a0cf1d8e8",
       "version_major": 2,
       "version_minor": 0
      },
      "text/plain": [
       "Label(value='Pizza Size:')"
      ]
     },
     "metadata": {},
     "output_type": "display_data"
    },
    {
     "data": {
      "application/vnd.jupyter.widget-view+json": {
       "model_id": "a218870c1e524083b9a48e7c1d024b24",
       "version_major": 2,
       "version_minor": 0
      },
      "text/plain": [
       "RadioButtons(description='Size', options=('Small: $6', 'Medium: $8', 'Large: $10'), value='Small: $6')"
      ]
     },
     "metadata": {},
     "output_type": "display_data"
    },
    {
     "data": {
      "application/vnd.jupyter.widget-view+json": {
       "model_id": "d3bd9fb2d30f40cd80764ef4b8e6eee2",
       "version_major": 2,
       "version_minor": 0
      },
      "text/plain": [
       "Button(description='Total Price:', style=ButtonStyle())"
      ]
     },
     "metadata": {},
     "output_type": "display_data"
    },
    {
     "data": {
      "text/plain": [
       "'Toppings:  Pepperoni  Sausage '"
      ]
     },
     "metadata": {},
     "output_type": "display_data"
    },
    {
     "data": {
      "text/plain": [
       "'Size: Small: $6'"
      ]
     },
     "metadata": {},
     "output_type": "display_data"
    },
    {
     "data": {
      "text/plain": [
       "'Total Cost: $10'"
      ]
     },
     "metadata": {},
     "output_type": "display_data"
    }
   ],
   "source": [
    "import ipywidgets as wd\n",
    "from IPython.display import display\n",
    "\n",
    "mylbl1 = wd.Label( 'Toppings:' )\n",
    "display(mylbl1)\n",
    "\n",
    "mychkp = wd.Checkbox( description = 'Pepperoni: $2' )\n",
    "display(mychkp)\n",
    "\n",
    "mychks = wd.Checkbox( description = 'Sausage: $2' )\n",
    "display(mychks)\n",
    "\n",
    "mychko = wd.Checkbox( description = 'Olive: $1' )\n",
    "display(mychko)\n",
    "\n",
    "mychkm = wd.Checkbox( description = 'Mushrooms: $1' )\n",
    "display(mychkm)\n",
    "\n",
    "mylbl2 = wd.Label( 'Pizza Size:' )\n",
    "display(mylbl2)\n",
    "\n",
    "mysize = wd.RadioButtons(options = [ 'Small: $6', 'Medium: $8', 'Large: $10' ] , description = 'Size' )\n",
    "display(mysize)\n",
    "\n",
    "myBtn = wd.Button( description = 'Total Price:' )\n",
    "display(myBtn)\n",
    "\n",
    "def mypizza(a):\n",
    "    cost = 0\n",
    "    toppings = ''\n",
    "    if mychkp.value == True:\n",
    "        cost+=2\n",
    "        toppings+= ' Pepperoni '\n",
    "    if mychks.value == True:\n",
    "        cost+=2\n",
    "        toppings+= ' Sausage '\n",
    "    if mychko.value == True:\n",
    "        cost+=1\n",
    "        toppings+= ' Olive '\n",
    "    if mychkm.value == True:\n",
    "        cost+=1\n",
    "        toppings+= ' Mushrooms '\n",
    "    if mysize.value == 'Small: $6':\n",
    "        cost+=6\n",
    "    elif mysize.value == 'Medium: $8':\n",
    "        cost+=8\n",
    "    elif mysize.value == 'Large: $10':\n",
    "        cost+=10\n",
    "    display('Toppings: '+toppings)\n",
    "    display('Size: '+mysize.value)\n",
    "    display('Total Cost: $'+str(cost))\n",
    "    \n",
    "myBtn.on_click(mypizza)\n",
    "    "
   ]
  },
  {
   "cell_type": "code",
   "execution_count": 64,
   "id": "d1570278",
   "metadata": {},
   "outputs": [
    {
     "data": {
      "text/html": [
       "<div>\n",
       "<style scoped>\n",
       "    .dataframe tbody tr th:only-of-type {\n",
       "        vertical-align: middle;\n",
       "    }\n",
       "\n",
       "    .dataframe tbody tr th {\n",
       "        vertical-align: top;\n",
       "    }\n",
       "\n",
       "    .dataframe thead th {\n",
       "        text-align: right;\n",
       "    }\n",
       "</style>\n",
       "<table border=\"1\" class=\"dataframe\">\n",
       "  <thead>\n",
       "    <tr style=\"text-align: right;\">\n",
       "      <th></th>\n",
       "      <th>Team</th>\n",
       "      <th>Conference</th>\n",
       "      <th>Each Team</th>\n",
       "      <th>Each Conference</th>\n",
       "      <th>Difference</th>\n",
       "      <th>Above or Below Average</th>\n",
       "    </tr>\n",
       "  </thead>\n",
       "  <tbody>\n",
       "    <tr>\n",
       "      <th>28</th>\n",
       "      <td>Oakland Raiders</td>\n",
       "      <td>AFC</td>\n",
       "      <td>1.922794e+06</td>\n",
       "      <td>1.762419e+06</td>\n",
       "      <td>160375.370936</td>\n",
       "      <td>Above Average</td>\n",
       "    </tr>\n",
       "    <tr>\n",
       "      <th>18</th>\n",
       "      <td>Cincinnati Bengals</td>\n",
       "      <td>AFC</td>\n",
       "      <td>1.912841e+06</td>\n",
       "      <td>1.762419e+06</td>\n",
       "      <td>150421.737895</td>\n",
       "      <td>Above Average</td>\n",
       "    </tr>\n",
       "    <tr>\n",
       "      <th>27</th>\n",
       "      <td>New York Jets</td>\n",
       "      <td>AFC</td>\n",
       "      <td>1.873081e+06</td>\n",
       "      <td>1.762419e+06</td>\n",
       "      <td>110661.715423</td>\n",
       "      <td>Above Average</td>\n",
       "    </tr>\n",
       "    <tr>\n",
       "      <th>23</th>\n",
       "      <td>Jacksonville Jaguars</td>\n",
       "      <td>AFC</td>\n",
       "      <td>1.855606e+06</td>\n",
       "      <td>1.762419e+06</td>\n",
       "      <td>93187.184123</td>\n",
       "      <td>Above Average</td>\n",
       "    </tr>\n",
       "    <tr>\n",
       "      <th>26</th>\n",
       "      <td>New England Patriots</td>\n",
       "      <td>AFC</td>\n",
       "      <td>1.854482e+06</td>\n",
       "      <td>1.762419e+06</td>\n",
       "      <td>92062.993646</td>\n",
       "      <td>Above Average</td>\n",
       "    </tr>\n",
       "    <tr>\n",
       "      <th>31</th>\n",
       "      <td>Tennessee Titans</td>\n",
       "      <td>AFC</td>\n",
       "      <td>1.800601e+06</td>\n",
       "      <td>1.762419e+06</td>\n",
       "      <td>38181.722584</td>\n",
       "      <td>Above Average</td>\n",
       "    </tr>\n",
       "    <tr>\n",
       "      <th>29</th>\n",
       "      <td>Pittsburgh Steelers</td>\n",
       "      <td>AFC</td>\n",
       "      <td>1.777105e+06</td>\n",
       "      <td>1.762419e+06</td>\n",
       "      <td>14686.403903</td>\n",
       "      <td>Above Average</td>\n",
       "    </tr>\n",
       "    <tr>\n",
       "      <th>24</th>\n",
       "      <td>Kansas City Chiefs</td>\n",
       "      <td>AFC</td>\n",
       "      <td>1.771039e+06</td>\n",
       "      <td>1.762419e+06</td>\n",
       "      <td>8620.117352</td>\n",
       "      <td>Above Average</td>\n",
       "    </tr>\n",
       "    <tr>\n",
       "      <th>21</th>\n",
       "      <td>Houston Texans</td>\n",
       "      <td>AFC</td>\n",
       "      <td>1.766215e+06</td>\n",
       "      <td>1.762419e+06</td>\n",
       "      <td>3796.130154</td>\n",
       "      <td>Above Average</td>\n",
       "    </tr>\n",
       "    <tr>\n",
       "      <th>25</th>\n",
       "      <td>Miami Dolphins</td>\n",
       "      <td>AFC</td>\n",
       "      <td>1.759095e+06</td>\n",
       "      <td>1.762419e+06</td>\n",
       "      <td>-3323.694998</td>\n",
       "      <td>Below Average</td>\n",
       "    </tr>\n",
       "    <tr>\n",
       "      <th>20</th>\n",
       "      <td>Denver Broncos</td>\n",
       "      <td>AFC</td>\n",
       "      <td>1.747641e+06</td>\n",
       "      <td>1.762419e+06</td>\n",
       "      <td>-14777.536512</td>\n",
       "      <td>Below Average</td>\n",
       "    </tr>\n",
       "    <tr>\n",
       "      <th>17</th>\n",
       "      <td>Buffalo Bills</td>\n",
       "      <td>AFC</td>\n",
       "      <td>1.738571e+06</td>\n",
       "      <td>1.762419e+06</td>\n",
       "      <td>-23847.903179</td>\n",
       "      <td>Below Average</td>\n",
       "    </tr>\n",
       "    <tr>\n",
       "      <th>22</th>\n",
       "      <td>Indianapolis Colts</td>\n",
       "      <td>AFC</td>\n",
       "      <td>1.722369e+06</td>\n",
       "      <td>1.762419e+06</td>\n",
       "      <td>-40049.480957</td>\n",
       "      <td>Below Average</td>\n",
       "    </tr>\n",
       "    <tr>\n",
       "      <th>16</th>\n",
       "      <td>Baltimore Ravens</td>\n",
       "      <td>AFC</td>\n",
       "      <td>1.662373e+06</td>\n",
       "      <td>1.762419e+06</td>\n",
       "      <td>-100046.378089</td>\n",
       "      <td>Below Average</td>\n",
       "    </tr>\n",
       "    <tr>\n",
       "      <th>30</th>\n",
       "      <td>San Diego Chargers</td>\n",
       "      <td>AFC</td>\n",
       "      <td>1.627548e+06</td>\n",
       "      <td>1.762419e+06</td>\n",
       "      <td>-134871.340178</td>\n",
       "      <td>Below Average</td>\n",
       "    </tr>\n",
       "    <tr>\n",
       "      <th>19</th>\n",
       "      <td>Cleveland Browns</td>\n",
       "      <td>AFC</td>\n",
       "      <td>1.444318e+06</td>\n",
       "      <td>1.762419e+06</td>\n",
       "      <td>-318100.853471</td>\n",
       "      <td>Below Average</td>\n",
       "    </tr>\n",
       "    <tr>\n",
       "      <th>6</th>\n",
       "      <td>Green Bay Packers</td>\n",
       "      <td>NFC</td>\n",
       "      <td>1.922330e+06</td>\n",
       "      <td>1.707594e+06</td>\n",
       "      <td>214735.999392</td>\n",
       "      <td>Above Average</td>\n",
       "    </tr>\n",
       "    <tr>\n",
       "      <th>0</th>\n",
       "      <td>Arizona Cardinals</td>\n",
       "      <td>NFC</td>\n",
       "      <td>1.870575e+06</td>\n",
       "      <td>1.707594e+06</td>\n",
       "      <td>162980.743434</td>\n",
       "      <td>Above Average</td>\n",
       "    </tr>\n",
       "    <tr>\n",
       "      <th>4</th>\n",
       "      <td>Dallas Cowboys</td>\n",
       "      <td>NFC</td>\n",
       "      <td>1.856719e+06</td>\n",
       "      <td>1.707594e+06</td>\n",
       "      <td>149124.853324</td>\n",
       "      <td>Above Average</td>\n",
       "    </tr>\n",
       "    <tr>\n",
       "      <th>8</th>\n",
       "      <td>Minnesota Vikings</td>\n",
       "      <td>NFC</td>\n",
       "      <td>1.838100e+06</td>\n",
       "      <td>1.707594e+06</td>\n",
       "      <td>130506.106071</td>\n",
       "      <td>Above Average</td>\n",
       "    </tr>\n",
       "    <tr>\n",
       "      <th>11</th>\n",
       "      <td>Philadelphia Eagles</td>\n",
       "      <td>NFC</td>\n",
       "      <td>1.833616e+06</td>\n",
       "      <td>1.707594e+06</td>\n",
       "      <td>126022.341419</td>\n",
       "      <td>Above Average</td>\n",
       "    </tr>\n",
       "    <tr>\n",
       "      <th>14</th>\n",
       "      <td>Tampa Bay Bucs</td>\n",
       "      <td>NFC</td>\n",
       "      <td>1.793262e+06</td>\n",
       "      <td>1.707594e+06</td>\n",
       "      <td>85667.885239</td>\n",
       "      <td>Above Average</td>\n",
       "    </tr>\n",
       "    <tr>\n",
       "      <th>10</th>\n",
       "      <td>New York Giants</td>\n",
       "      <td>NFC</td>\n",
       "      <td>1.767496e+06</td>\n",
       "      <td>1.707594e+06</td>\n",
       "      <td>59901.397769</td>\n",
       "      <td>Above Average</td>\n",
       "    </tr>\n",
       "    <tr>\n",
       "      <th>15</th>\n",
       "      <td>Wahington Redskins</td>\n",
       "      <td>NFC</td>\n",
       "      <td>1.759302e+06</td>\n",
       "      <td>1.707594e+06</td>\n",
       "      <td>51707.908269</td>\n",
       "      <td>Above Average</td>\n",
       "    </tr>\n",
       "    <tr>\n",
       "      <th>7</th>\n",
       "      <td>Los Angeles Rams</td>\n",
       "      <td>NFC</td>\n",
       "      <td>1.653549e+06</td>\n",
       "      <td>1.707594e+06</td>\n",
       "      <td>-54044.953127</td>\n",
       "      <td>Below Average</td>\n",
       "    </tr>\n",
       "    <tr>\n",
       "      <th>1</th>\n",
       "      <td>Atlanta Falcons</td>\n",
       "      <td>NFC</td>\n",
       "      <td>1.652789e+06</td>\n",
       "      <td>1.707594e+06</td>\n",
       "      <td>-54804.813342</td>\n",
       "      <td>Below Average</td>\n",
       "    </tr>\n",
       "    <tr>\n",
       "      <th>3</th>\n",
       "      <td>Chicago Bears</td>\n",
       "      <td>NFC</td>\n",
       "      <td>1.626389e+06</td>\n",
       "      <td>1.707594e+06</td>\n",
       "      <td>-81204.802231</td>\n",
       "      <td>Below Average</td>\n",
       "    </tr>\n",
       "    <tr>\n",
       "      <th>13</th>\n",
       "      <td>Seattle Seahawks</td>\n",
       "      <td>NFC</td>\n",
       "      <td>1.618279e+06</td>\n",
       "      <td>1.707594e+06</td>\n",
       "      <td>-89315.311624</td>\n",
       "      <td>Below Average</td>\n",
       "    </tr>\n",
       "    <tr>\n",
       "      <th>5</th>\n",
       "      <td>Detroit Lions</td>\n",
       "      <td>NFC</td>\n",
       "      <td>1.593253e+06</td>\n",
       "      <td>1.707594e+06</td>\n",
       "      <td>-114341.060654</td>\n",
       "      <td>Below Average</td>\n",
       "    </tr>\n",
       "    <tr>\n",
       "      <th>12</th>\n",
       "      <td>San Francisco 49ers</td>\n",
       "      <td>NFC</td>\n",
       "      <td>1.556522e+06</td>\n",
       "      <td>1.707594e+06</td>\n",
       "      <td>-151072.537980</td>\n",
       "      <td>Below Average</td>\n",
       "    </tr>\n",
       "    <tr>\n",
       "      <th>2</th>\n",
       "      <td>Carolina Panthers</td>\n",
       "      <td>NFC</td>\n",
       "      <td>1.530092e+06</td>\n",
       "      <td>1.707594e+06</td>\n",
       "      <td>-177502.036786</td>\n",
       "      <td>Below Average</td>\n",
       "    </tr>\n",
       "    <tr>\n",
       "      <th>9</th>\n",
       "      <td>New Orleans Saints</td>\n",
       "      <td>NFC</td>\n",
       "      <td>1.475443e+06</td>\n",
       "      <td>1.707594e+06</td>\n",
       "      <td>-232151.093484</td>\n",
       "      <td>Below Average</td>\n",
       "    </tr>\n",
       "  </tbody>\n",
       "</table>\n",
       "</div>"
      ],
      "text/plain": [
       "                    Team Conference     Each Team  Each Conference  \\\n",
       "28       Oakland Raiders        AFC  1.922794e+06     1.762419e+06   \n",
       "18    Cincinnati Bengals        AFC  1.912841e+06     1.762419e+06   \n",
       "27         New York Jets        AFC  1.873081e+06     1.762419e+06   \n",
       "23  Jacksonville Jaguars        AFC  1.855606e+06     1.762419e+06   \n",
       "26  New England Patriots        AFC  1.854482e+06     1.762419e+06   \n",
       "31      Tennessee Titans        AFC  1.800601e+06     1.762419e+06   \n",
       "29   Pittsburgh Steelers        AFC  1.777105e+06     1.762419e+06   \n",
       "24    Kansas City Chiefs        AFC  1.771039e+06     1.762419e+06   \n",
       "21        Houston Texans        AFC  1.766215e+06     1.762419e+06   \n",
       "25        Miami Dolphins        AFC  1.759095e+06     1.762419e+06   \n",
       "20        Denver Broncos        AFC  1.747641e+06     1.762419e+06   \n",
       "17         Buffalo Bills        AFC  1.738571e+06     1.762419e+06   \n",
       "22    Indianapolis Colts        AFC  1.722369e+06     1.762419e+06   \n",
       "16      Baltimore Ravens        AFC  1.662373e+06     1.762419e+06   \n",
       "30    San Diego Chargers        AFC  1.627548e+06     1.762419e+06   \n",
       "19      Cleveland Browns        AFC  1.444318e+06     1.762419e+06   \n",
       "6      Green Bay Packers        NFC  1.922330e+06     1.707594e+06   \n",
       "0      Arizona Cardinals        NFC  1.870575e+06     1.707594e+06   \n",
       "4         Dallas Cowboys        NFC  1.856719e+06     1.707594e+06   \n",
       "8      Minnesota Vikings        NFC  1.838100e+06     1.707594e+06   \n",
       "11   Philadelphia Eagles        NFC  1.833616e+06     1.707594e+06   \n",
       "14        Tampa Bay Bucs        NFC  1.793262e+06     1.707594e+06   \n",
       "10       New York Giants        NFC  1.767496e+06     1.707594e+06   \n",
       "15    Wahington Redskins        NFC  1.759302e+06     1.707594e+06   \n",
       "7       Los Angeles Rams        NFC  1.653549e+06     1.707594e+06   \n",
       "1        Atlanta Falcons        NFC  1.652789e+06     1.707594e+06   \n",
       "3          Chicago Bears        NFC  1.626389e+06     1.707594e+06   \n",
       "13      Seattle Seahawks        NFC  1.618279e+06     1.707594e+06   \n",
       "5          Detroit Lions        NFC  1.593253e+06     1.707594e+06   \n",
       "12   San Francisco 49ers        NFC  1.556522e+06     1.707594e+06   \n",
       "2      Carolina Panthers        NFC  1.530092e+06     1.707594e+06   \n",
       "9     New Orleans Saints        NFC  1.475443e+06     1.707594e+06   \n",
       "\n",
       "       Difference Above or Below Average  \n",
       "28  160375.370936          Above Average  \n",
       "18  150421.737895          Above Average  \n",
       "27  110661.715423          Above Average  \n",
       "23   93187.184123          Above Average  \n",
       "26   92062.993646          Above Average  \n",
       "31   38181.722584          Above Average  \n",
       "29   14686.403903          Above Average  \n",
       "24    8620.117352          Above Average  \n",
       "21    3796.130154          Above Average  \n",
       "25   -3323.694998          Below Average  \n",
       "20  -14777.536512          Below Average  \n",
       "17  -23847.903179          Below Average  \n",
       "22  -40049.480957          Below Average  \n",
       "16 -100046.378089          Below Average  \n",
       "30 -134871.340178          Below Average  \n",
       "19 -318100.853471          Below Average  \n",
       "6   214735.999392          Above Average  \n",
       "0   162980.743434          Above Average  \n",
       "4   149124.853324          Above Average  \n",
       "8   130506.106071          Above Average  \n",
       "11  126022.341419          Above Average  \n",
       "14   85667.885239          Above Average  \n",
       "10   59901.397769          Above Average  \n",
       "15   51707.908269          Above Average  \n",
       "7   -54044.953127          Below Average  \n",
       "1   -54804.813342          Below Average  \n",
       "3   -81204.802231          Below Average  \n",
       "13  -89315.311624          Below Average  \n",
       "5  -114341.060654          Below Average  \n",
       "12 -151072.537980          Below Average  \n",
       "2  -177502.036786          Below Average  \n",
       "9  -232151.093484          Below Average  "
      ]
     },
     "execution_count": 64,
     "metadata": {},
     "output_type": "execute_result"
    }
   ],
   "source": [
    "import pandas as pd\n",
    "import numpy as np\n",
    "\n",
    "mydf = pd.read_csv('NFL Data.txt', sep = '\\t', names = ['Name','Pos','Sal','Team','Conference','Div'])\n",
    "\n",
    "mypivotA = pd.pivot_table(mydf, values = ['Sal'], index = ['Team','Conference'], aggfunc = [np.mean])\n",
    "\n",
    "mydfA = mypivotA.reset_index()\n",
    "\n",
    "mydfA.columns = ['Team','Conference','Each Team']\n",
    "\n",
    "mypivotB = pd.pivot_table(mydf, values = ['Sal'], index = ['Conference'], aggfunc = [np.mean])\n",
    "\n",
    "mydfB = mypivotB.reset_index()\n",
    "\n",
    "mydfB.columns = ['Conference','Each Conference']\n",
    "\n",
    "mydfC = pd.merge(mydfA,mydfB, how = 'inner', on = 'Conference')\n",
    "\n",
    "mydfC['Difference'] = mydfC['Each Team']-mydfC['Each Conference']\n",
    "\n",
    "mydfC['Above or Below Average'] = np.where(mydfC['Difference']>0,'Above Average','Below Average')\n",
    "\n",
    "mydfC.sort_values( by = ['Conference','Difference'] , ascending = [1,0] )\n",
    "\n",
    "\n",
    "\n"
   ]
  },
  {
   "cell_type": "code",
   "execution_count": 23,
   "id": "5a337ca4",
   "metadata": {},
   "outputs": [
    {
     "name": "stdout",
     "output_type": "stream",
     "text": [
      "5\n"
     ]
    }
   ],
   "source": [
    "def myY(num1,num2,num3):\n",
    "    high = -100000000000\n",
    "    if num1>high:\n",
    "        high = num1\n",
    "    if num2>high:\n",
    "        high = num2\n",
    "    if num3>high:\n",
    "        high = num3\n",
    "    return high\n",
    "\n",
    "print(myY(2,5,-1000))"
   ]
  },
  {
   "cell_type": "code",
   "execution_count": 35,
   "id": "a3a22af8",
   "metadata": {},
   "outputs": [
    {
     "data": {
      "text/html": [
       "<div>\n",
       "<style scoped>\n",
       "    .dataframe tbody tr th:only-of-type {\n",
       "        vertical-align: middle;\n",
       "    }\n",
       "\n",
       "    .dataframe tbody tr th {\n",
       "        vertical-align: top;\n",
       "    }\n",
       "\n",
       "    .dataframe thead th {\n",
       "        text-align: right;\n",
       "    }\n",
       "</style>\n",
       "<table border=\"1\" class=\"dataframe\">\n",
       "  <thead>\n",
       "    <tr style=\"text-align: right;\">\n",
       "      <th></th>\n",
       "      <th></th>\n",
       "      <th>AvgSal</th>\n",
       "    </tr>\n",
       "    <tr>\n",
       "      <th>Div</th>\n",
       "      <th>Pos</th>\n",
       "      <th></th>\n",
       "    </tr>\n",
       "  </thead>\n",
       "  <tbody>\n",
       "    <tr>\n",
       "      <th>AFC SOUTH</th>\n",
       "      <th>T</th>\n",
       "      <td>464836.8</td>\n",
       "    </tr>\n",
       "  </tbody>\n",
       "</table>\n",
       "</div>"
      ],
      "text/plain": [
       "                 AvgSal\n",
       "Div       Pos          \n",
       "AFC SOUTH T    464836.8"
      ]
     },
     "execution_count": 35,
     "metadata": {},
     "output_type": "execute_result"
    }
   ],
   "source": [
    "import pandas as pd\n",
    "import numpy as np\n",
    "\n",
    "mydf = pd.read_csv('NFL Data.txt', sep = '\\t', names = ['Name','Pos','Sal','Team','Con','Div'])\n",
    "\n",
    "mydf = mydf[mydf['Div'] == 'AFC SOUTH']\n",
    "\n",
    "mypivotA = pd.pivot_table(mydf, values = ['Sal'], index = ['Div','Pos'], aggfunc = [np.mean])\n",
    "\n",
    "mypivotA.columns = ['AvgSal']\n",
    "\n",
    "mysort = mypivotA.sort_values( by = ['AvgSal'] , ascending = [1] )\n",
    "\n",
    "mysort.head(1)"
   ]
  },
  {
   "cell_type": "code",
   "execution_count": 68,
   "id": "4e0f05a0",
   "metadata": {},
   "outputs": [
    {
     "data": {
      "application/vnd.jupyter.widget-view+json": {
       "model_id": "22f5eef4556b444da8ee680993a97e44",
       "version_major": 2,
       "version_minor": 0
      },
      "text/plain": [
       "Label(value='Toppings:')"
      ]
     },
     "metadata": {},
     "output_type": "display_data"
    },
    {
     "data": {
      "application/vnd.jupyter.widget-view+json": {
       "model_id": "e93b829d0337497f8b185592dd9ebc39",
       "version_major": 2,
       "version_minor": 0
      },
      "text/plain": [
       "Checkbox(value=False, description='Pepperoni: $2')"
      ]
     },
     "metadata": {},
     "output_type": "display_data"
    },
    {
     "data": {
      "application/vnd.jupyter.widget-view+json": {
       "model_id": "3fe46a19380e4e5fb86a08efaf86f9c8",
       "version_major": 2,
       "version_minor": 0
      },
      "text/plain": [
       "Checkbox(value=False, description='Sausage: $2')"
      ]
     },
     "metadata": {},
     "output_type": "display_data"
    },
    {
     "data": {
      "application/vnd.jupyter.widget-view+json": {
       "model_id": "f8041f9d0b814474b533e1ea283d478c",
       "version_major": 2,
       "version_minor": 0
      },
      "text/plain": [
       "Checkbox(value=False, description='Olive: $1')"
      ]
     },
     "metadata": {},
     "output_type": "display_data"
    },
    {
     "data": {
      "application/vnd.jupyter.widget-view+json": {
       "model_id": "74b40497f6c94f61b5925639826e170d",
       "version_major": 2,
       "version_minor": 0
      },
      "text/plain": [
       "Checkbox(value=False, description='Mushrooms: $1')"
      ]
     },
     "metadata": {},
     "output_type": "display_data"
    },
    {
     "data": {
      "application/vnd.jupyter.widget-view+json": {
       "model_id": "7b2ead3a52d14509879fb9fb5735e10c",
       "version_major": 2,
       "version_minor": 0
      },
      "text/plain": [
       "Label(value='Pizza Size:')"
      ]
     },
     "metadata": {},
     "output_type": "display_data"
    },
    {
     "data": {
      "application/vnd.jupyter.widget-view+json": {
       "model_id": "8256b5dec6664fccb695f994284049a4",
       "version_major": 2,
       "version_minor": 0
      },
      "text/plain": [
       "RadioButtons(description='Size', options=('Small: $6', 'Medium: $8', 'Large: $10'), value='Small: $6')"
      ]
     },
     "metadata": {},
     "output_type": "display_data"
    },
    {
     "data": {
      "application/vnd.jupyter.widget-view+json": {
       "model_id": "7993126479bb4bca814e9b0cceadb389",
       "version_major": 2,
       "version_minor": 0
      },
      "text/plain": [
       "Button(description='Total Price:', style=ButtonStyle())"
      ]
     },
     "metadata": {},
     "output_type": "display_data"
    },
    {
     "data": {
      "application/vnd.jupyter.widget-view+json": {
       "model_id": "44740a2761e84501a06496483836b68a",
       "version_major": 2,
       "version_minor": 0
      },
      "text/plain": [
       "Label(value='')"
      ]
     },
     "metadata": {},
     "output_type": "display_data"
    },
    {
     "data": {
      "application/vnd.jupyter.widget-view+json": {
       "model_id": "74b7e11fda5d4c3490e6f4fc40566736",
       "version_major": 2,
       "version_minor": 0
      },
      "text/plain": [
       "Label(value='')"
      ]
     },
     "metadata": {},
     "output_type": "display_data"
    },
    {
     "data": {
      "application/vnd.jupyter.widget-view+json": {
       "model_id": "b6895b7863e94c13807f24621c2fa23a",
       "version_major": 2,
       "version_minor": 0
      },
      "text/plain": [
       "Label(value='')"
      ]
     },
     "metadata": {},
     "output_type": "display_data"
    }
   ],
   "source": [
    "import ipywidgets as wd\n",
    "from IPython.display import display\n",
    "\n",
    "mylbl1 = wd.Label( 'Toppings:' )\n",
    "display(mylbl1)\n",
    "\n",
    "mychkp = wd.Checkbox( description = 'Pepperoni: $2' )\n",
    "display(mychkp)\n",
    "\n",
    "mychks = wd.Checkbox( description = 'Sausage: $2' )\n",
    "display(mychks)\n",
    "\n",
    "mychko = wd.Checkbox( description = 'Olive: $1' )\n",
    "display(mychko)\n",
    "\n",
    "mychkm = wd.Checkbox( description = 'Mushrooms: $1' )\n",
    "display(mychkm)\n",
    "\n",
    "mylbl2 = wd.Label( 'Pizza Size:' )\n",
    "display(mylbl2)\n",
    "\n",
    "mysize = wd.RadioButtons(options = [ 'Small: $6', 'Medium: $8', 'Large: $10' ] , description = 'Size' )\n",
    "display(mysize)\n",
    "\n",
    "myBtn = wd.Button( description = 'Total Price:' )\n",
    "display(myBtn)\n",
    "\n",
    "mylbl3 = wd.Label()\n",
    "display(mylbl3)\n",
    "\n",
    "mylbl4 = wd.Label()\n",
    "display(mylbl4)\n",
    "\n",
    "mylbl5 = wd.Label()\n",
    "display(mylbl5)\n",
    "\n",
    "def mypizza(a):\n",
    "    cost = 0\n",
    "    toppings = ''\n",
    "    if mychkp.value == True:\n",
    "        cost+=2\n",
    "        toppings+= ' Pepperoni '\n",
    "    if mychks.value == True:\n",
    "        cost+=2\n",
    "        toppings+= ' Sausage '\n",
    "    if mychko.value == True:\n",
    "        cost+=1\n",
    "        toppings+= ' Olive '\n",
    "    if mychkm.value == True:\n",
    "        cost+=1\n",
    "        toppings+= ' Mushrooms '\n",
    "    if mysize.value == 'Small: $6':\n",
    "        cost+=6\n",
    "    elif mysize.value == 'Medium: $8':\n",
    "        cost+=8\n",
    "    elif mysize.value == 'Large: $10':\n",
    "        cost+=10\n",
    "    mylbl3.value = 'Toppings:'+toppings\n",
    "    mylbl4.value = 'Size: '+mysize.value\n",
    "    mylbl5.value = 'Total Cost: $'+str(cost)\n",
    "\n",
    "    \n",
    "myBtn.on_click(mypizza)"
   ]
  },
  {
   "cell_type": "code",
   "execution_count": null,
   "id": "6d73e8b2",
   "metadata": {},
   "outputs": [],
   "source": []
  }
 ],
 "metadata": {
  "kernelspec": {
   "display_name": "Python 3 (ipykernel)",
   "language": "python",
   "name": "python3"
  },
  "language_info": {
   "codemirror_mode": {
    "name": "ipython",
    "version": 3
   },
   "file_extension": ".py",
   "mimetype": "text/x-python",
   "name": "python",
   "nbconvert_exporter": "python",
   "pygments_lexer": "ipython3",
   "version": "3.9.7"
  }
 },
 "nbformat": 4,
 "nbformat_minor": 5
}
